{
 "cells": [
  {
   "cell_type": "markdown",
   "metadata": {},
   "source": [
    "# Stock Price Prediction"
   ]
  },
  {
   "cell_type": "markdown",
   "metadata": {},
   "source": [
    "#### Predict the closing stock price of a corporation using the past 60 day stock price. \n",
    "#### model use RNN LSTM"
   ]
  },
  {
   "cell_type": "code",
   "execution_count": 4,
   "metadata": {},
   "outputs": [
    {
     "name": "stderr",
     "output_type": "stream",
     "text": [
      "/Users/mbuhliagah/opt/anaconda3/lib/python3.7/importlib/_bootstrap.py:219: RuntimeWarning: numpy.ufunc size changed, may indicate binary incompatibility. Expected 192 from C header, got 216 from PyObject\n",
      "  return f(*args, **kwds)\n",
      "/Users/mbuhliagah/opt/anaconda3/lib/python3.7/importlib/_bootstrap.py:219: RuntimeWarning: numpy.ufunc size changed, may indicate binary incompatibility. Expected 192 from C header, got 216 from PyObject\n",
      "  return f(*args, **kwds)\n",
      "Using TensorFlow backend.\n",
      "/Users/mbuhliagah/opt/anaconda3/lib/python3.7/importlib/_bootstrap.py:219: RuntimeWarning: numpy.ufunc size changed, may indicate binary incompatibility. Expected 216, got 192\n",
      "  return f(*args, **kwds)\n"
     ]
    }
   ],
   "source": [
    "#Import Libraries\n",
    "import math\n",
    "import pandas_datareader as web\n",
    "import pandas as pd\n",
    "import numpy as np\n",
    "from sklearn.preprocessing import MinMaxScaler\n",
    "from keras.models import Sequential\n",
    "from keras.layers import Dense, LSTM\n",
    "import matplotlib.pyplot as plt\n",
    "plt.style.use('fivethirtyeight')"
   ]
  },
  {
   "cell_type": "markdown",
   "metadata": {},
   "source": [
    "### Get Stock quote"
   ]
  },
  {
   "cell_type": "code",
   "execution_count": 10,
   "metadata": {},
   "outputs": [],
   "source": [
    "df = web.DataReader('AAPL', data_source = 'yahoo', start = '2010-01-01', end='2020-08-17')"
   ]
  },
  {
   "cell_type": "code",
   "execution_count": 11,
   "metadata": {},
   "outputs": [
    {
     "data": {
      "text/html": [
       "<div>\n",
       "<style scoped>\n",
       "    .dataframe tbody tr th:only-of-type {\n",
       "        vertical-align: middle;\n",
       "    }\n",
       "\n",
       "    .dataframe tbody tr th {\n",
       "        vertical-align: top;\n",
       "    }\n",
       "\n",
       "    .dataframe thead th {\n",
       "        text-align: right;\n",
       "    }\n",
       "</style>\n",
       "<table border=\"1\" class=\"dataframe\">\n",
       "  <thead>\n",
       "    <tr style=\"text-align: right;\">\n",
       "      <th></th>\n",
       "      <th>High</th>\n",
       "      <th>Low</th>\n",
       "      <th>Open</th>\n",
       "      <th>Close</th>\n",
       "      <th>Volume</th>\n",
       "      <th>Adj Close</th>\n",
       "    </tr>\n",
       "    <tr>\n",
       "      <th>Date</th>\n",
       "      <th></th>\n",
       "      <th></th>\n",
       "      <th></th>\n",
       "      <th></th>\n",
       "      <th></th>\n",
       "      <th></th>\n",
       "    </tr>\n",
       "  </thead>\n",
       "  <tbody>\n",
       "    <tr>\n",
       "      <td>2010-01-04</td>\n",
       "      <td>7.660714</td>\n",
       "      <td>7.585000</td>\n",
       "      <td>7.622500</td>\n",
       "      <td>7.643214</td>\n",
       "      <td>493729600.0</td>\n",
       "      <td>6.604801</td>\n",
       "    </tr>\n",
       "    <tr>\n",
       "      <td>2010-01-05</td>\n",
       "      <td>7.699643</td>\n",
       "      <td>7.616071</td>\n",
       "      <td>7.664286</td>\n",
       "      <td>7.656428</td>\n",
       "      <td>601904800.0</td>\n",
       "      <td>6.616219</td>\n",
       "    </tr>\n",
       "    <tr>\n",
       "      <td>2010-01-06</td>\n",
       "      <td>7.686786</td>\n",
       "      <td>7.526786</td>\n",
       "      <td>7.656428</td>\n",
       "      <td>7.534643</td>\n",
       "      <td>552160000.0</td>\n",
       "      <td>6.510980</td>\n",
       "    </tr>\n",
       "    <tr>\n",
       "      <td>2010-01-07</td>\n",
       "      <td>7.571429</td>\n",
       "      <td>7.466072</td>\n",
       "      <td>7.562500</td>\n",
       "      <td>7.520714</td>\n",
       "      <td>477131200.0</td>\n",
       "      <td>6.498945</td>\n",
       "    </tr>\n",
       "    <tr>\n",
       "      <td>2010-01-08</td>\n",
       "      <td>7.571429</td>\n",
       "      <td>7.466429</td>\n",
       "      <td>7.510714</td>\n",
       "      <td>7.570714</td>\n",
       "      <td>447610800.0</td>\n",
       "      <td>6.542150</td>\n",
       "    </tr>\n",
       "    <tr>\n",
       "      <td>...</td>\n",
       "      <td>...</td>\n",
       "      <td>...</td>\n",
       "      <td>...</td>\n",
       "      <td>...</td>\n",
       "      <td>...</td>\n",
       "      <td>...</td>\n",
       "    </tr>\n",
       "    <tr>\n",
       "      <td>2020-08-11</td>\n",
       "      <td>112.482498</td>\n",
       "      <td>109.107498</td>\n",
       "      <td>111.970001</td>\n",
       "      <td>109.375000</td>\n",
       "      <td>187902400.0</td>\n",
       "      <td>109.375000</td>\n",
       "    </tr>\n",
       "    <tr>\n",
       "      <td>2020-08-12</td>\n",
       "      <td>113.275002</td>\n",
       "      <td>110.297501</td>\n",
       "      <td>110.497498</td>\n",
       "      <td>113.010002</td>\n",
       "      <td>165944800.0</td>\n",
       "      <td>113.010002</td>\n",
       "    </tr>\n",
       "    <tr>\n",
       "      <td>2020-08-13</td>\n",
       "      <td>116.042503</td>\n",
       "      <td>113.927498</td>\n",
       "      <td>114.430000</td>\n",
       "      <td>115.010002</td>\n",
       "      <td>210082000.0</td>\n",
       "      <td>115.010002</td>\n",
       "    </tr>\n",
       "    <tr>\n",
       "      <td>2020-08-14</td>\n",
       "      <td>115.000000</td>\n",
       "      <td>113.044998</td>\n",
       "      <td>114.830002</td>\n",
       "      <td>114.907501</td>\n",
       "      <td>165565200.0</td>\n",
       "      <td>114.907501</td>\n",
       "    </tr>\n",
       "    <tr>\n",
       "      <td>2020-08-17</td>\n",
       "      <td>116.087502</td>\n",
       "      <td>113.962502</td>\n",
       "      <td>116.062500</td>\n",
       "      <td>114.607498</td>\n",
       "      <td>119561600.0</td>\n",
       "      <td>114.607498</td>\n",
       "    </tr>\n",
       "  </tbody>\n",
       "</table>\n",
       "<p>2674 rows × 6 columns</p>\n",
       "</div>"
      ],
      "text/plain": [
       "                  High         Low        Open       Close       Volume  \\\n",
       "Date                                                                      \n",
       "2010-01-04    7.660714    7.585000    7.622500    7.643214  493729600.0   \n",
       "2010-01-05    7.699643    7.616071    7.664286    7.656428  601904800.0   \n",
       "2010-01-06    7.686786    7.526786    7.656428    7.534643  552160000.0   \n",
       "2010-01-07    7.571429    7.466072    7.562500    7.520714  477131200.0   \n",
       "2010-01-08    7.571429    7.466429    7.510714    7.570714  447610800.0   \n",
       "...                ...         ...         ...         ...          ...   \n",
       "2020-08-11  112.482498  109.107498  111.970001  109.375000  187902400.0   \n",
       "2020-08-12  113.275002  110.297501  110.497498  113.010002  165944800.0   \n",
       "2020-08-13  116.042503  113.927498  114.430000  115.010002  210082000.0   \n",
       "2020-08-14  115.000000  113.044998  114.830002  114.907501  165565200.0   \n",
       "2020-08-17  116.087502  113.962502  116.062500  114.607498  119561600.0   \n",
       "\n",
       "             Adj Close  \n",
       "Date                    \n",
       "2010-01-04    6.604801  \n",
       "2010-01-05    6.616219  \n",
       "2010-01-06    6.510980  \n",
       "2010-01-07    6.498945  \n",
       "2010-01-08    6.542150  \n",
       "...                ...  \n",
       "2020-08-11  109.375000  \n",
       "2020-08-12  113.010002  \n",
       "2020-08-13  115.010002  \n",
       "2020-08-14  114.907501  \n",
       "2020-08-17  114.607498  \n",
       "\n",
       "[2674 rows x 6 columns]"
      ]
     },
     "execution_count": 11,
     "metadata": {},
     "output_type": "execute_result"
    }
   ],
   "source": [
    "# exploaring Data\n",
    "df"
   ]
  },
  {
   "cell_type": "code",
   "execution_count": 12,
   "metadata": {},
   "outputs": [
    {
     "data": {
      "text/plain": [
       "(2674, 6)"
      ]
     },
     "execution_count": 12,
     "metadata": {},
     "output_type": "execute_result"
    }
   ],
   "source": [
    "df.shape"
   ]
  },
  {
   "cell_type": "code",
   "execution_count": 13,
   "metadata": {},
   "outputs": [
    {
     "data": {
      "image/png": "[encoded data removed]",
      "text/plain": [
       "<Figure size 1152x576 with 1 Axes>"
      ]
     },
     "metadata": {
      "needs_background": "light"
     },
     "output_type": "display_data"
    }
   ],
   "source": [
    "plt.figure(figsize=(16,8))\n",
    "plt.title('Close Price History')\n",
    "plt.plot(df['Close'])\n",
    "plt.xlabel('Data', fontsize=18)\n",
    "plt.ylabel('Close Price USD ($)', fontsize=18)\n",
    "plt.show()"
   ]
  },
  {
   "cell_type": "code",
   "execution_count": 15,
   "metadata": {},
   "outputs": [
    {
     "data": {
      "text/plain": [
       "2140"
      ]
     },
     "execution_count": 15,
     "metadata": {},
     "output_type": "execute_result"
    }
   ],
   "source": [
    "# Creating new dataframe with only the close column\n",
    "data = df.filter(['Close'])\n",
    "# Convert the dataframe to numpy array\n",
    "dataset = data.values\n",
    "#get the number of row to train the model on \n",
    "training_data_len = math.ceil( len(dataset) * .8)\n",
    "\n",
    "training_data_len"
   ]
  },
  {
   "cell_type": "code",
   "execution_count": 16,
   "metadata": {},
   "outputs": [
    {
     "data": {
      "text/plain": [
       "array([[0.00725176],\n",
       "       [0.00737394],\n",
       "       [0.00624787],\n",
       "       ...,\n",
       "       [1.        ],\n",
       "       [0.99905224],\n",
       "       [0.99627832]])"
      ]
     },
     "execution_count": 16,
     "metadata": {},
     "output_type": "execute_result"
    }
   ],
   "source": [
    "#Scale Data\n",
    "scaler = MinMaxScaler(feature_range=(0,1))\n",
    "scaled_data = scaler.fit_transform(dataset)\n",
    "\n",
    "scaled_data"
   ]
  },
  {
   "cell_type": "code",
   "execution_count": 18,
   "metadata": {},
   "outputs": [
    {
     "name": "stdout",
     "output_type": "stream",
     "text": [
      "[array([7.25175923e-03, 7.37394120e-03, 6.24787156e-03, 6.11908492e-03,\n",
      "       6.58140294e-03, 5.96387960e-03, 5.17463927e-03, 6.14220126e-03,\n",
      "       5.73932526e-03, 4.58353460e-03, 7.59189088e-03, 6.49884458e-03,\n",
      "       5.29021657e-03, 1.88228663e-03, 3.63908895e-03, 4.58683694e-03,\n",
      "       5.22747662e-03, 2.39083293e-03, 3.30233460e-06, 8.85003627e-04,\n",
      "       1.25815862e-03, 2.37101892e-03, 0.00000000e+00, 1.12606964e-03,\n",
      "       6.83565625e-04, 1.36713566e-03, 1.01379468e-03, 2.18609259e-03,\n",
      "       2.75077858e-03, 3.74806159e-03, 3.46737196e-03, 3.59285627e-03,\n",
      "       3.17677093e-03, 2.76398792e-03, 1.65442995e-03, 2.84324395e-03,\n",
      "       3.28574797e-03, 4.15093759e-03, 5.59402695e-03, 5.54779426e-03,\n",
      "       5.70630191e-03, 6.16201527e-03, 8.88307725e-03, 8.92600319e-03,\n",
      "       1.02270966e-02, 1.08281038e-02, 1.10460579e-02, 1.14093059e-02,\n",
      "       1.04978792e-02, 1.06993172e-02, 1.05903446e-02, 1.07653639e-02,\n",
      "       9.97282121e-03, 1.07983872e-02, 1.19904992e-02, 1.23240305e-02,\n",
      "       1.14258132e-02, 1.28292745e-02, 1.33213091e-02, 1.44638904e-02])]\n",
      "[0.014183205234495733]\n",
      "\n"
     ]
    }
   ],
   "source": [
    "#create the training data set\n",
    "train_data = scaled_data[0:training_data_len, :]\n",
    "#split data\n",
    "x_train = []\n",
    "y_train = []\n",
    "\n",
    "for i in range (60, len(train_data)):\n",
    "    x_train.append(train_data[i-60:i,0])\n",
    "    y_train.append(train_data[i,0])\n",
    "    if i <= 60:\n",
    "        print (x_train)\n",
    "        print (y_train)\n",
    "        print ()"
   ]
  },
  {
   "cell_type": "code",
   "execution_count": 20,
   "metadata": {},
   "outputs": [],
   "source": [
    "# Convert the x-train and y_train to numpy arrays\n",
    "x_train, y_train = np.array(x_train), np.array(y_train)"
   ]
  },
  {
   "cell_type": "code",
   "execution_count": 21,
   "metadata": {},
   "outputs": [
    {
     "data": {
      "text/plain": [
       "(2080, 60)"
      ]
     },
     "execution_count": 21,
     "metadata": {},
     "output_type": "execute_result"
    }
   ],
   "source": [
    "x_train.shape"
   ]
  },
  {
   "cell_type": "code",
   "execution_count": 22,
   "metadata": {},
   "outputs": [],
   "source": [
    "# reshape data\n",
    "x_train = np.reshape(x_train, (x_train.shape[0], x_train.shape[1], 1))"
   ]
  },
  {
   "cell_type": "code",
   "execution_count": 23,
   "metadata": {},
   "outputs": [
    {
     "data": {
      "text/plain": [
       "(2080, 60, 1)"
      ]
     },
     "execution_count": 23,
     "metadata": {},
     "output_type": "execute_result"
    }
   ],
   "source": [
    "x_train.shape"
   ]
  },
  {
   "cell_type": "code",
   "execution_count": 25,
   "metadata": {},
   "outputs": [],
   "source": [
    "#Build The LSTM model\n",
    "model = Sequential()\n",
    "model.add(LSTM(50, return_sequences=True, input_shape=(x_train.shape[1],1)))\n",
    "model.add(LSTM(50, return_sequences = False))\n",
    "model.add(Dense(25))\n",
    "model.add(Dense(1))"
   ]
  },
  {
   "cell_type": "code",
   "execution_count": 26,
   "metadata": {},
   "outputs": [],
   "source": [
    "# Compile the model\n",
    "model.compile(optimizer='adam', loss='mean_squared_error')"
   ]
  },
  {
   "cell_type": "code",
   "execution_count": 28,
   "metadata": {},
   "outputs": [
    {
     "name": "stdout",
     "output_type": "stream",
     "text": [
      "Epoch 1/5\n",
      "2080/2080 [==============================] - 56s 27ms/step - loss: 2.6995e-04\n",
      "Epoch 2/5\n",
      "2080/2080 [==============================] - 55s 27ms/step - loss: 1.0496e-04\n",
      "Epoch 3/5\n",
      "2080/2080 [==============================] - 55s 27ms/step - loss: 8.6643e-05\n",
      "Epoch 4/5\n",
      "2080/2080 [==============================] - 56s 27ms/step - loss: 6.5108e-05\n",
      "Epoch 5/5\n",
      "2080/2080 [==============================] - 55s 27ms/step - loss: 4.5118e-05\n"
     ]
    },
    {
     "data": {
      "text/plain": [
       "<keras.callbacks.callbacks.History at 0x7fd2adbb1d10>"
      ]
     },
     "execution_count": 28,
     "metadata": {},
     "output_type": "execute_result"
    }
   ],
   "source": [
    "# Train the model\n",
    "model.fit(x_train, y_train, batch_size=1, epochs=5)"
   ]
  },
  {
   "cell_type": "code",
   "execution_count": null,
   "metadata": {},
   "outputs": [],
   "source": []
  }
 ],
 "metadata": {
  "kernelspec": {
   "display_name": "Python 3",
   "language": "python",
   "name": "python3"
  },
  "language_info": {
   "codemirror_mode": {
    "name": "ipython",
    "version": 3
   },
   "file_extension": ".py",
   "mimetype": "text/x-python",
   "name": "python",
   "nbconvert_exporter": "python",
   "pygments_lexer": "ipython3",
   "version": "3.7.4"
  }
 },
 "nbformat": 4,
 "nbformat_minor": 2
}
